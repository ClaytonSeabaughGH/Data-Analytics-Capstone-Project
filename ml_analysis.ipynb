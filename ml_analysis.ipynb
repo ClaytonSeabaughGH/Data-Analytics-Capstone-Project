{
 "cells": [
  {
   "cell_type": "markdown",
   "id": "b103568d",
   "metadata": {},
   "source": [
    "# Machine Learning Analysis"
   ]
  },
  {
   "cell_type": "markdown",
   "id": "ad2c18c3",
   "metadata": {},
   "source": [
    "### Step 1. Import Dependencies"
   ]
  },
  {
   "cell_type": "code",
   "execution_count": null,
   "id": "51bafa98",
   "metadata": {},
   "outputs": [],
   "source": [
    "# Imports\n",
    "import pandas as pd\n",
    "from sklearn.model_selection import train_test_split\n",
    "from sklearn.preprocessing import LabelEncoder, OneHotEncoder, MinMaxScaler\n"
   ]
  },
  {
   "cell_type": "markdown",
   "id": "b838f316",
   "metadata": {},
   "source": [
    "### Step 2. Set up data for ML"
   ]
  },
  {
   "cell_type": "code",
   "execution_count": null,
   "id": "5607869f",
   "metadata": {},
   "outputs": [],
   "source": [
    "# Load your dataset\n",
    "df = pd.read_csv('student_outcomes.csv')\n",
    "\n",
    "# Clean categorical columns\n",
    "df['Gender'] = df['Gender'].str.strip().str.capitalize()\n",
    "df['Field_of_Study'] = df['Field_of_Study'].str.strip().str.title()\n",
    "# ... similarly for others\n",
    "\n",
    "# Encode categorical variables - example for Field_of_Study\n",
    "df = pd.get_dummies(df, columns=['Field_of_Study', 'Gender', 'Current_Job_Level'], drop_first=True)\n",
    "\n",
    "# Scale numeric columns\n",
    "scaler = MinMaxScaler()\n",
    "numeric_cols = ['High_School_GPA', 'University_GPA', 'SAT_Score', 'Soft_Skills_Score', 'Networking_Score', 'Internships_Completed', 'Projects_Completed', 'Certifications']\n",
    "df[numeric_cols] = scaler.fit_transform(df[numeric_cols])\n",
    "\n",
    "# Define features and targets\n",
    "features = df.drop(columns=['Starting_Salary', 'Job_Offers', 'Student_ID'])\n",
    "target_salary = df['Starting_Salary']\n",
    "target_offers = df['Job_Offers']\n"
   ]
  },
  {
   "cell_type": "markdown",
   "id": "afea1a0a",
   "metadata": {},
   "source": []
  }
 ],
 "metadata": {
  "kernelspec": {
   "display_name": ".venv",
   "language": "python",
   "name": "python3"
  },
  "language_info": {
   "name": "python",
   "version": "3.13.3"
  }
 },
 "nbformat": 4,
 "nbformat_minor": 5
}

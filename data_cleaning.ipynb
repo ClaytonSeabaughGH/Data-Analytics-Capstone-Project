{
 "cells": [
  {
   "cell_type": "markdown",
   "id": "8de71cec",
   "metadata": {},
   "source": [
    "# Data Cleaning Script"
   ]
  },
  {
   "cell_type": "markdown",
   "id": "107590ce",
   "metadata": {},
   "source": [
    "### Step 1: Install Libraries "
   ]
  },
  {
   "cell_type": "code",
   "execution_count": 3,
   "id": "f20bb1ad",
   "metadata": {},
   "outputs": [],
   "source": [
    "import pandas as pd"
   ]
  },
  {
   "cell_type": "markdown",
   "id": "ee07344a",
   "metadata": {},
   "source": [
    "### Step 2: Load Data Set"
   ]
  },
  {
   "cell_type": "code",
   "execution_count": null,
   "id": "5e9717ad",
   "metadata": {},
   "outputs": [
    {
     "name": "stdout",
     "output_type": "stream",
     "text": [
      "<bound method NDFrame.head of      Student_ID  Age  Gender  High_School_GPA  SAT_Score  University_Ranking  \\\n",
      "0        S00001   24    Male             3.58       1052                 291   \n",
      "1        S00002   21   Other             2.52       1211                 112   \n",
      "2        S00003   28  Female             3.42       1193                 715   \n",
      "3        S00004   25    Male             2.43       1497                 170   \n",
      "4        S00005   22    Male             2.08       1012                 599   \n",
      "...         ...  ...     ...              ...        ...                 ...   \n",
      "4995     S04996   26  Female             2.44       1258                 776   \n",
      "4996     S04997   18  Female             3.94       1032                 923   \n",
      "4997     S04998   19  Female             3.45       1299                 720   \n",
      "4998     S04999   19    Male             2.70       1038                 319   \n",
      "4999     S05000   23  Female             2.19       1145                  82   \n",
      "\n",
      "      University_GPA    Field_of_Study  Internships_Completed  \\\n",
      "0               3.96              Arts                      3   \n",
      "1               3.63               Law                      4   \n",
      "2               2.63          Medicine                      4   \n",
      "3               2.81  Computer Science                      3   \n",
      "4               2.48       Engineering                      4   \n",
      "...              ...               ...                    ...   \n",
      "4995            2.44              Arts                      3   \n",
      "4996            3.73               Law                      0   \n",
      "4997            2.52               Law                      3   \n",
      "4998            3.94               Law                      1   \n",
      "4999            3.19  Computer Science                      2   \n",
      "\n",
      "      Projects_Completed  Certifications  Soft_Skills_Score  Networking_Score  \\\n",
      "0                      7               2                  9                 8   \n",
      "1                      7               3                  8                 1   \n",
      "2                      8               1                  1                 9   \n",
      "3                      9               1                 10                 6   \n",
      "4                      6               4                 10                 9   \n",
      "...                  ...             ...                ...               ...   \n",
      "4995                   7               3                  8                 5   \n",
      "4996                   9               3                  6                 4   \n",
      "4997                   5               5                  6                 2   \n",
      "4998                   4               5                  5                 1   \n",
      "4999                   6               0                  5                 8   \n",
      "\n",
      "      Job_Offers  Starting_Salary  Career_Satisfaction  Years_to_Promotion  \\\n",
      "0              5            27200                    4                   5   \n",
      "1              4            25000                    1                   1   \n",
      "2              0            42400                    9                   3   \n",
      "3              1            57400                    7                   5   \n",
      "4              4            47600                    9                   5   \n",
      "...          ...              ...                  ...                 ...   \n",
      "4995           5            31500                    9                   5   \n",
      "4996           5            41800                    9                   2   \n",
      "4997           2            49500                    2                   5   \n",
      "4998           5            54700                    9                   4   \n",
      "4999           2            57000                    2                   5   \n",
      "\n",
      "     Current_Job_Level  Work_Life_Balance Entrepreneurship  \n",
      "0                Entry                  7               No  \n",
      "1                  Mid                  7               No  \n",
      "2                Entry                  7               No  \n",
      "3                  Mid                  5               No  \n",
      "4                Entry                  2               No  \n",
      "...                ...                ...              ...  \n",
      "4995               Mid                  7               No  \n",
      "4996             Entry                  4               No  \n",
      "4997               Mid                  6               No  \n",
      "4998             Entry                  6               No  \n",
      "4999            Senior                  9               No  \n",
      "\n",
      "[5000 rows x 20 columns]>\n"
     ]
    }
   ],
   "source": [
    "# 2.1 Load Data set\n",
    "df = pd.read_csv(\"education_career_success_csv.csv\")\n",
    "\n",
    "print(df.head)"
   ]
  },
  {
   "cell_type": "code",
   "execution_count": 12,
   "id": "e3eb977d",
   "metadata": {},
   "outputs": [],
   "source": [
    "#2.2 Cleaning data\n",
    "# Capitalize M and F in gender column\n",
    "df['Gender'] = df['Gender'].str.strip().str.capitalize()\n",
    "\n",
    "# Clean current job level\n",
    "df['Current_Job_Level'] = df['Current_Job_Level'].str.strip().str.title()\n",
    "\n",
    "# Clean Entrepreneurship Column\n",
    "df['Entrepreneurship'] = df['Entrepreneurship'].str.strip().str.capitalize()\n",
    "\n",
    "# Clean Field of Study Column\n",
    "df['Field_of_Study'] = df['Field_of_Study'].str.strip().str.title()\n"
   ]
  },
  {
   "cell_type": "code",
   "execution_count": null,
   "id": "7c80bc27",
   "metadata": {},
   "outputs": [
    {
     "name": "stdout",
     "output_type": "stream",
     "text": [
      "SAT Score Outliers: 0\n",
      "Starting Salary Outliers: 12\n"
     ]
    }
   ],
   "source": [
    "# 3.1\n",
    "# Create Function to detect outliers\n",
    "def detect_outliers_iqr(series):\n",
    "    Q1 = series.quantile(0.25)\n",
    "    Q3 = series.quantile(0.75)\n",
    "    IQR = Q3 - Q1\n",
    "    lower_bound = Q1 - 1.5 * IQR\n",
    "    upper_bound = Q3 + 1.5 * IQR\n",
    "    return series[(series < lower_bound) | (series > upper_bound)]\n",
    "\n",
    "# Print outliers for SAT\n",
    "sat_outliers = detect_outliers_iqr(df['SAT_Score'])\n",
    "print(f\"SAT Score Outliers: {sat_outliers.count()}\")\n",
    "\n",
    "# Print Salary Outliers\n",
    "salary_outliers = detect_outliers_iqr(df['Starting_Salary'])\n",
    "print(f\"Starting Salary Outliers: {salary_outliers.count()}\")\n"
   ]
  },
  {
   "cell_type": "code",
   "execution_count": 18,
   "id": "d38ffbd1",
   "metadata": {},
   "outputs": [
    {
     "name": "stdout",
     "output_type": "stream",
     "text": [
      "   Gender Current_Job_Level Entrepreneurship    Field_of_Study\n",
      "0    Male             Entry               No              Arts\n",
      "1   Other               Mid               No               Law\n",
      "2  Female             Entry               No          Medicine\n",
      "3    Male               Mid               No  Computer Science\n",
      "4    Male             Entry               No       Engineering\n",
      "count     5000.00000\n",
      "mean     50510.86000\n",
      "std      14354.24742\n",
      "min      25000.00000\n",
      "25%      40200.00000\n",
      "50%      50300.00000\n",
      "75%      60500.00000\n",
      "max      84902.00000\n",
      "Name: Starting_Salary, dtype: float64\n"
     ]
    },
    {
     "name": "stderr",
     "output_type": "stream",
     "text": [
      "C:\\Users\\clayt\\AppData\\Local\\Temp\\ipykernel_26048\\153780482.py:5: FutureWarning: Downcasting behavior in Series and DataFrame methods 'where', 'mask', and 'clip' is deprecated. In a future version this will not infer object dtypes or cast all-round floats to integers. Instead call result.infer_objects(copy=False) for object inference, or cast round floats explicitly. To opt-in to the future behavior, set `pd.set_option('future.no_silent_downcasting', True)`\n",
      "  df['Starting_Salary'] = df['Starting_Salary'].clip(lower=lower_cap, upper=upper_cap)\n"
     ]
    }
   ],
   "source": [
    "# Cap starting Salaries to combat outliers\n",
    "lower_cap = df['Starting_Salary'].quantile(0.01)\n",
    "upper_cap = df['Starting_Salary'].quantile(0.99)\n",
    "\n",
    "df['Starting_Salary'] = df['Starting_Salary'].clip(lower=lower_cap, upper=upper_cap)\n",
    "print(df[['Gender', 'Current_Job_Level', 'Entrepreneurship', 'Field_of_Study']].head())\n",
    "print(df['Starting_Salary'].describe())\n"
   ]
  },
  {
   "cell_type": "code",
   "execution_count": null,
   "id": "55c4606d",
   "metadata": {},
   "outputs": [],
   "source": []
  }
 ],
 "metadata": {
  "kernelspec": {
   "display_name": ".venv",
   "language": "python",
   "name": "python3"
  },
  "language_info": {
   "codemirror_mode": {
    "name": "ipython",
    "version": 3
   },
   "file_extension": ".py",
   "mimetype": "text/x-python",
   "name": "python",
   "nbconvert_exporter": "python",
   "pygments_lexer": "ipython3",
   "version": "3.13.3"
  }
 },
 "nbformat": 4,
 "nbformat_minor": 5
}
